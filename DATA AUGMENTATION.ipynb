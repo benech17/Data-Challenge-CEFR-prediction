{
 "cells": [
  {
   "cell_type": "code",
   "execution_count": 1,
   "id": "1d707feb",
   "metadata": {},
   "outputs": [
    {
     "data": {
      "text/html": [
       "<div>\n",
       "<style scoped>\n",
       "    .dataframe tbody tr th:only-of-type {\n",
       "        vertical-align: middle;\n",
       "    }\n",
       "\n",
       "    .dataframe tbody tr th {\n",
       "        vertical-align: top;\n",
       "    }\n",
       "\n",
       "    .dataframe thead th {\n",
       "        text-align: right;\n",
       "    }\n",
       "</style>\n",
       "<table border=\"1\" class=\"dataframe\">\n",
       "  <thead>\n",
       "    <tr style=\"text-align: right;\">\n",
       "      <th></th>\n",
       "      <th>text</th>\n",
       "      <th>label</th>\n",
       "    </tr>\n",
       "  </thead>\n",
       "  <tbody>\n",
       "    <tr>\n",
       "      <th>0</th>\n",
       "      <td>Hi!\\nI've been meaning to write for ages and f...</td>\n",
       "      <td>B2</td>\n",
       "    </tr>\n",
       "    <tr>\n",
       "      <th>1</th>\n",
       "      <td>﻿It was not so much how hard people found the ...</td>\n",
       "      <td>B2</td>\n",
       "    </tr>\n",
       "    <tr>\n",
       "      <th>2</th>\n",
       "      <td>Keith recently came back from a trip to Chicag...</td>\n",
       "      <td>B2</td>\n",
       "    </tr>\n",
       "    <tr>\n",
       "      <th>3</th>\n",
       "      <td>The Griffith Observatory is a planetarium, and...</td>\n",
       "      <td>B2</td>\n",
       "    </tr>\n",
       "    <tr>\n",
       "      <th>4</th>\n",
       "      <td>-LRB- The Hollywood Reporter -RRB- It's offici...</td>\n",
       "      <td>B2</td>\n",
       "    </tr>\n",
       "  </tbody>\n",
       "</table>\n",
       "</div>"
      ],
      "text/plain": [
       "                                                text label\n",
       "0  Hi!\\nI've been meaning to write for ages and f...    B2\n",
       "1  ﻿It was not so much how hard people found the ...    B2\n",
       "2  Keith recently came back from a trip to Chicag...    B2\n",
       "3  The Griffith Observatory is a planetarium, and...    B2\n",
       "4  -LRB- The Hollywood Reporter -RRB- It's offici...    B2"
      ]
     },
     "execution_count": 1,
     "metadata": {},
     "output_type": "execute_result"
    }
   ],
   "source": [
    "import pandas as pd\n",
    "\n",
    "# Spécifiez le chemin du fichier\n",
    "augment_file = \"cefr_leveled_texts.csv\"\n",
    "\n",
    "# Chargez le fichier CSV dans un dataframe\n",
    "df_aug = pd.read_csv(augment_file)\n",
    "\n",
    "# Affichez les premières lignes pour vérifier la structure du dataframe\n",
    "df_aug.head()"
   ]
  },
  {
   "cell_type": "code",
   "execution_count": 2,
   "id": "60f169b0",
   "metadata": {},
   "outputs": [
    {
     "data": {
      "text/html": [
       "<div>\n",
       "<style scoped>\n",
       "    .dataframe tbody tr th:only-of-type {\n",
       "        vertical-align: middle;\n",
       "    }\n",
       "\n",
       "    .dataframe tbody tr th {\n",
       "        vertical-align: top;\n",
       "    }\n",
       "\n",
       "    .dataframe thead th {\n",
       "        text-align: right;\n",
       "    }\n",
       "</style>\n",
       "<table border=\"1\" class=\"dataframe\">\n",
       "  <thead>\n",
       "    <tr style=\"text-align: right;\">\n",
       "      <th></th>\n",
       "      <th>text</th>\n",
       "      <th>label</th>\n",
       "    </tr>\n",
       "  </thead>\n",
       "  <tbody>\n",
       "    <tr>\n",
       "      <th>558</th>\n",
       "      <td>Police and neighbors were searching for three ...</td>\n",
       "      <td>C1</td>\n",
       "    </tr>\n",
       "    <tr>\n",
       "      <th>559</th>\n",
       "      <td>At least 26 people were killed Monday in the S...</td>\n",
       "      <td>C1</td>\n",
       "    </tr>\n",
       "    <tr>\n",
       "      <th>560</th>\n",
       "      <td>To many who watched his long, rambling video s...</td>\n",
       "      <td>C1</td>\n",
       "    </tr>\n",
       "    <tr>\n",
       "      <th>561</th>\n",
       "      <td>The night Bob Hawke lost the Labor leadership ...</td>\n",
       "      <td>C1</td>\n",
       "    </tr>\n",
       "    <tr>\n",
       "      <th>562</th>\n",
       "      <td>﻿Swedish prisons have long had a reputation ar...</td>\n",
       "      <td>C1</td>\n",
       "    </tr>\n",
       "  </tbody>\n",
       "</table>\n",
       "</div>"
      ],
      "text/plain": [
       "                                                  text label\n",
       "558  Police and neighbors were searching for three ...    C1\n",
       "559  At least 26 people were killed Monday in the S...    C1\n",
       "560  To many who watched his long, rambling video s...    C1\n",
       "561  The night Bob Hawke lost the Labor leadership ...    C1\n",
       "562  ﻿Swedish prisons have long had a reputation ar...    C1"
      ]
     },
     "execution_count": 2,
     "metadata": {},
     "output_type": "execute_result"
    }
   ],
   "source": [
    "# Filtrer les lignes contenant \"C1\" ou \"C2\" dans la colonne \"label\"\n",
    "filtered_df = df_aug[df_aug['label'].isin(['C1', 'C2'])]\n",
    "\n",
    "# Affichez les premières lignes du nouveau dataframe\n",
    "filtered_df.head()"
   ]
  },
  {
   "cell_type": "code",
   "execution_count": 3,
   "id": "b615ba1e",
   "metadata": {},
   "outputs": [
    {
     "data": {
      "text/html": [
       "<div>\n",
       "<style scoped>\n",
       "    .dataframe tbody tr th:only-of-type {\n",
       "        vertical-align: middle;\n",
       "    }\n",
       "\n",
       "    .dataframe tbody tr th {\n",
       "        vertical-align: top;\n",
       "    }\n",
       "\n",
       "    .dataframe thead th {\n",
       "        text-align: right;\n",
       "    }\n",
       "</style>\n",
       "<table border=\"1\" class=\"dataframe\">\n",
       "  <thead>\n",
       "    <tr style=\"text-align: right;\">\n",
       "      <th></th>\n",
       "      <th>Id</th>\n",
       "      <th>text</th>\n",
       "      <th>level</th>\n",
       "    </tr>\n",
       "  </thead>\n",
       "  <tbody>\n",
       "    <tr>\n",
       "      <th>0</th>\n",
       "      <td>0</td>\n",
       "      <td>\\r\\r\\n      My friend Meg was going out to wor...</td>\n",
       "      <td>3</td>\n",
       "    </tr>\n",
       "    <tr>\n",
       "      <th>1</th>\n",
       "      <td>1</td>\n",
       "      <td>\\r\\r\\n      Hello I'm sorry but i'm on holiday...</td>\n",
       "      <td>0</td>\n",
       "    </tr>\n",
       "    <tr>\n",
       "      <th>2</th>\n",
       "      <td>2</td>\n",
       "      <td>\\r\\r\\n      Name : MaryAge : 62Hair color : bl...</td>\n",
       "      <td>0</td>\n",
       "    </tr>\n",
       "    <tr>\n",
       "      <th>3</th>\n",
       "      <td>3</td>\n",
       "      <td>\\r\\r\\n      hi , my name is laila , i live in ...</td>\n",
       "      <td>0</td>\n",
       "    </tr>\n",
       "    <tr>\n",
       "      <th>4</th>\n",
       "      <td>4</td>\n",
       "      <td>\\r\\r\\n      A pink sweater : 10 $.A black dres...</td>\n",
       "      <td>0</td>\n",
       "    </tr>\n",
       "  </tbody>\n",
       "</table>\n",
       "</div>"
      ],
      "text/plain": [
       "   Id                                               text  level\n",
       "0   0  \\r\\r\\n      My friend Meg was going out to wor...      3\n",
       "1   1  \\r\\r\\n      Hello I'm sorry but i'm on holiday...      0\n",
       "2   2  \\r\\r\\n      Name : MaryAge : 62Hair color : bl...      0\n",
       "3   3  \\r\\r\\n      hi , my name is laila , i live in ...      0\n",
       "4   4  \\r\\r\\n      A pink sweater : 10 $.A black dres...      0"
      ]
     },
     "execution_count": 3,
     "metadata": {},
     "output_type": "execute_result"
    }
   ],
   "source": [
    "# Chargez le fichier \"train_data_challenge.csv\" dans un dataframe\n",
    "train_df = pd.read_csv(\"train_data_challenge.csv\")\n",
    "\n",
    "# Affichez les premières lignes pour vérifier la structure du dataframe\n",
    "train_df.head()"
   ]
  },
  {
   "cell_type": "code",
   "execution_count": 4,
   "id": "6840c082",
   "metadata": {},
   "outputs": [
    {
     "name": "stderr",
     "output_type": "stream",
     "text": [
      "[nltk_data] Error loading punkt: <urlopen error [Errno 11001]\n",
      "[nltk_data]     getaddrinfo failed>\n"
     ]
    },
    {
     "data": {
      "text/plain": [
       "False"
      ]
     },
     "execution_count": 4,
     "metadata": {},
     "output_type": "execute_result"
    }
   ],
   "source": [
    "import nltk\n",
    "nltk.download('punkt')"
   ]
  },
  {
   "cell_type": "code",
   "execution_count": 5,
   "id": "2b72d5a8",
   "metadata": {},
   "outputs": [],
   "source": [
    "from nltk.tokenize import sent_tokenize, word_tokenize"
   ]
  },
  {
   "cell_type": "code",
   "execution_count": 6,
   "id": "9906fae7",
   "metadata": {},
   "outputs": [
    {
     "name": "stdout",
     "output_type": "stream",
     "text": [
      "Mean size (in words) for the label C1: 187.27\n",
      "Mean size (in words) for the label C2: 192.30\n"
     ]
    }
   ],
   "source": [
    "# Tokenize the text into words and calculate the mean size for \"C1\"\n",
    "mean_size_c1_words = train_df[train_df['level'] == 4]['text'].apply(word_tokenize).apply(len).mean()\n",
    "\n",
    "# Tokenize the text into words and calculate the mean size for \"C2\"\n",
    "mean_size_c2_words = train_df[train_df['level'] == 5]['text'].apply(word_tokenize).apply(len).mean()\n",
    "\n",
    "# Print the results\n",
    "print(f\"Mean size (in words) for the label C1: {mean_size_c1_words:.2f}\")\n",
    "print(f\"Mean size (in words) for the label C2: {mean_size_c2_words:.2f}\")\n"
   ]
  },
  {
   "cell_type": "code",
   "execution_count": 7,
   "id": "8b63bfa2",
   "metadata": {},
   "outputs": [],
   "source": [
    "# Function to calculate the sum of words for a given number of phrases\n",
    "def calculate_word_sum(sentences, num_phrases):\n",
    "    selected_phrases = sentences[:num_phrases]\n",
    "    selected_text = ' '.join(selected_phrases)\n",
    "    words = word_tokenize(selected_text)\n",
    "    return len(words)"
   ]
  },
  {
   "cell_type": "code",
   "execution_count": 8,
   "id": "a2167b48",
   "metadata": {},
   "outputs": [],
   "source": [
    "# Tokenize\n",
    "filtered_df_tok = filtered_df.copy()\n",
    "filtered_df_tok['sentences'] = filtered_df_tok['text'].apply(sent_tokenize)"
   ]
  },
  {
   "cell_type": "code",
   "execution_count": 9,
   "id": "2631f6a0",
   "metadata": {},
   "outputs": [
    {
     "name": "stdout",
     "output_type": "stream",
     "text": [
      "                                                   text label  \\\n",
      "558   Police and neighbors were searching for three ...    C1   \n",
      "559   At least 26 people were killed Monday in the S...    C1   \n",
      "560   To many who watched his long, rambling video s...    C1   \n",
      "561   The night Bob Hawke lost the Labor leadership ...    C1   \n",
      "562   ﻿Swedish prisons have long had a reputation ar...    C1   \n",
      "...                                                 ...   ...   \n",
      "1489  Light propagating in the vicinity of astrophys...    C2   \n",
      "1490  Future of dentistry has become one of the most...    C2   \n",
      "1491  ﻿The forests – and suburbs – of Europe are ech...    C2   \n",
      "1492  Hedge funds are turning bullish on oil once ag...    C2   \n",
      "1493  Without additional heating, radiative cooling ...    C2   \n",
      "\n",
      "                                              sentences  \n",
      "558   [Police and neighbors were searching for three...  \n",
      "559   [At least 26 people were killed Monday in the ...  \n",
      "560   [To many who watched his long, rambling video ...  \n",
      "561   [The night Bob Hawke lost the Labor leadership...  \n",
      "562   [﻿Swedish prisons have long had a reputation a...  \n",
      "...                                                 ...  \n",
      "1489  [Light propagating in the vicinity of astrophy...  \n",
      "1490  [Future of dentistry has become one of the mos...  \n",
      "1491  [﻿The forests – and suburbs – of Europe are ec...  \n",
      "1492  [Hedge funds are turning bullish on oil once a...  \n",
      "1493  [Without additional heating, radiative cooling...  \n",
      "\n",
      "[443 rows x 3 columns]\n"
     ]
    }
   ],
   "source": [
    "print(filtered_df_tok)"
   ]
  },
  {
   "cell_type": "code",
   "execution_count": 10,
   "id": "969052f5",
   "metadata": {},
   "outputs": [
    {
     "name": "stdout",
     "output_type": "stream",
     "text": [
      "558     5\n",
      "559     7\n",
      "560     8\n",
      "561     7\n",
      "562     8\n",
      "       ..\n",
      "1489    7\n",
      "1490    9\n",
      "1491    5\n",
      "1492    7\n",
      "1493    6\n",
      "Name: nearest_phrases, Length: 443, dtype: int64\n"
     ]
    }
   ],
   "source": [
    "# Function to find the number of phrases with the nearest word count\n",
    "def find_nearest_phrases(sentences, average_size):\n",
    "    num_phrases_range = range(1, len(sentences) + 1)\n",
    "    word_counts = [calculate_word_sum(sentences, num_phrases) for num_phrases in num_phrases_range]\n",
    "    nearest_num_phrases = min(num_phrases_range, key=lambda x: abs(word_counts[x - 1] - average_size))\n",
    "    return sentences[:nearest_num_phrases]\n",
    "\n",
    "# Apply the function to each row of filtered_df\n",
    "filtered_df_tok['nearest_phrases'] = filtered_df_tok.apply(lambda row: find_nearest_phrases(row['sentences'], mean_size_c1_words) if row['label'] == 'C1' else find_nearest_phrases(row['sentences'], mean_size_c2_words), axis=1)\n",
    "\n",
    "# Display the resulting dataframe\n",
    "print(filtered_df_tok['nearest_phrases'].apply(len))"
   ]
  },
  {
   "cell_type": "code",
   "execution_count": 11,
   "id": "65a626aa",
   "metadata": {},
   "outputs": [
    {
     "name": "stdout",
     "output_type": "stream",
     "text": [
      "Number of occurrences for each label:\n",
      "C1    241\n",
      "C2    202\n",
      "Name: label, dtype: int64\n"
     ]
    }
   ],
   "source": [
    "# Count the number of occurrences for each label in filtered_df_tok\n",
    "label_counts = filtered_df_tok['label'].value_counts()\n",
    "\n",
    "# Print the results\n",
    "print(\"Number of occurrences for each label:\")\n",
    "print(label_counts)"
   ]
  },
  {
   "cell_type": "code",
   "execution_count": 12,
   "id": "32dcc5ca",
   "metadata": {},
   "outputs": [
    {
     "name": "stdout",
     "output_type": "stream",
     "text": [
      "Number of occurrences for each label:\n",
      "0    8551\n",
      "1    5717\n",
      "2    4007\n",
      "3    1757\n",
      "4     373\n",
      "5      40\n",
      "Name: level, dtype: int64\n"
     ]
    }
   ],
   "source": [
    "# Count the number of occurrences for each label in filtered_df_tok\n",
    "label_counts = train_df['level'].value_counts()\n",
    "\n",
    "# Print the results\n",
    "print(\"Number of occurrences for each label:\")\n",
    "print(label_counts)"
   ]
  },
  {
   "cell_type": "code",
   "execution_count": 13,
   "id": "66b3b9a3",
   "metadata": {},
   "outputs": [
    {
     "name": "stdout",
     "output_type": "stream",
     "text": [
      "Id                                                     395\n",
      "text     \\r\\r\\n      Mark as the &quot;bowling alley&qu...\n",
      "level                                                    2\n",
      "Name: 395, dtype: object\n"
     ]
    }
   ],
   "source": [
    "print(train_df.iloc[395]) "
   ]
  },
  {
   "cell_type": "code",
   "execution_count": 14,
   "id": "380a0ea9",
   "metadata": {},
   "outputs": [
    {
     "name": "stdout",
     "output_type": "stream",
     "text": [
      "Mark as the bowling alley...\n"
     ]
    }
   ],
   "source": [
    "import re\n",
    "\n",
    "def clean_text(text):\n",
    "    # Remove '\\r', '\\n', '\\t' characters\n",
    "    text = re.sub(r'[\\r\\n\\t]', ' ', text)\n",
    "    \n",
    "    # Remove special characters like &quot; or %% or ''\n",
    "    text = re.sub(r'&quot;|%{2}|\\'\\'', '', text)\n",
    "    \n",
    "    # Remove extra spaces\n",
    "    text = re.sub(r'\\s+', ' ', text).strip()\n",
    "\n",
    "    return text\n",
    "\n",
    "# Example usage\n",
    "example_text = \"\\r\\r\\n Mark as the &quot;bowling alley&quot;...\"\n",
    "cleaned_text = clean_text(example_text)\n",
    "print(cleaned_text)"
   ]
  },
  {
   "cell_type": "code",
   "execution_count": 15,
   "id": "427db880",
   "metadata": {},
   "outputs": [
    {
     "name": "stdout",
     "output_type": "stream",
     "text": [
      "                                                    text  \\\n",
      "0      \\r\\r\\n      My friend Meg was going out to wor...   \n",
      "1      \\r\\r\\n      Hello I'm sorry but i'm on holiday...   \n",
      "2      \\r\\r\\n      Name : MaryAge : 62Hair color : bl...   \n",
      "3      \\r\\r\\n      hi , my name is laila , i live in ...   \n",
      "4      \\r\\r\\n      A pink sweater : 10 $.A black dres...   \n",
      "...                                                  ...   \n",
      "20440  \\r\\r\\n      Hi mom and pop!I'm going to the po...   \n",
      "20441  \\r\\r\\n      Hello, I don't know if the things ...   \n",
      "20442  \\r\\r\\n      I'm Ericka. I live in Paris .I get...   \n",
      "20443  \\r\\r\\n      Hi, Jessy! You're on vacation, It'...   \n",
      "20444  \\r\\r\\n      Hi, my name is Gregory. I'm thirdy...   \n",
      "\n",
      "                                            cleaned_text  \n",
      "0      My friend Meg was going out to work like every...  \n",
      "1      Hello I'm sorry but i'm on holiday when you ca...  \n",
      "2      Name : MaryAge : 62Hair color : blondeEyes: : ...  \n",
      "3      hi , my name is laila , i live in paris from f...  \n",
      "4      A pink sweater : 10 $.A black dress with a whi...  \n",
      "...                                                  ...  \n",
      "20440  Hi mom and pop!I'm going to the pop festival t...  \n",
      "20441  Hello, I don't know if the things telling abou...  \n",
      "20442  I'm Ericka. I live in Paris .I get up at 7 in ...  \n",
      "20443  Hi, Jessy! You're on vacation, It's too bad to...  \n",
      "20444  Hi, my name is Gregory. I'm thirdy-nine. My fa...  \n",
      "\n",
      "[20445 rows x 2 columns]\n"
     ]
    }
   ],
   "source": [
    "# Apply the clean_text function to the \"text\" column\n",
    "train_df['cleaned_text'] = train_df['text'].apply(clean_text)\n",
    "\n",
    "# Display the resulting DataFrame\n",
    "print(train_df[['text', 'cleaned_text']])"
   ]
  },
  {
   "cell_type": "code",
   "execution_count": 16,
   "id": "bf02ba1d",
   "metadata": {},
   "outputs": [
    {
     "data": {
      "text/html": [
       "<div>\n",
       "<style scoped>\n",
       "    .dataframe tbody tr th:only-of-type {\n",
       "        vertical-align: middle;\n",
       "    }\n",
       "\n",
       "    .dataframe tbody tr th {\n",
       "        vertical-align: top;\n",
       "    }\n",
       "\n",
       "    .dataframe thead th {\n",
       "        text-align: right;\n",
       "    }\n",
       "</style>\n",
       "<table border=\"1\" class=\"dataframe\">\n",
       "  <thead>\n",
       "    <tr style=\"text-align: right;\">\n",
       "      <th></th>\n",
       "      <th>Id</th>\n",
       "      <th>text</th>\n",
       "    </tr>\n",
       "  </thead>\n",
       "  <tbody>\n",
       "    <tr>\n",
       "      <th>0</th>\n",
       "      <td>0</td>\n",
       "      <td>\\r\\r\\n      Hi granny, Look at my photos about...</td>\n",
       "    </tr>\n",
       "    <tr>\n",
       "      <th>1</th>\n",
       "      <td>1</td>\n",
       "      <td>\\r\\r\\n      Hi, I'm twenty on Monday. I'm havi...</td>\n",
       "    </tr>\n",
       "    <tr>\n",
       "      <th>2</th>\n",
       "      <td>2</td>\n",
       "      <td>\\r\\r\\n      make 2 teams of 6 or more players ...</td>\n",
       "    </tr>\n",
       "    <tr>\n",
       "      <th>3</th>\n",
       "      <td>3</td>\n",
       "      <td>\\r\\r\\n      Yes, I can recommend a green Amazo...</td>\n",
       "    </tr>\n",
       "    <tr>\n",
       "      <th>4</th>\n",
       "      <td>4</td>\n",
       "      <td>\\r\\r\\n      john discovers that Isabella doesn...</td>\n",
       "    </tr>\n",
       "  </tbody>\n",
       "</table>\n",
       "</div>"
      ],
      "text/plain": [
       "   Id                                               text\n",
       "0   0  \\r\\r\\n      Hi granny, Look at my photos about...\n",
       "1   1  \\r\\r\\n      Hi, I'm twenty on Monday. I'm havi...\n",
       "2   2  \\r\\r\\n      make 2 teams of 6 or more players ...\n",
       "3   3  \\r\\r\\n      Yes, I can recommend a green Amazo...\n",
       "4   4  \\r\\r\\n      john discovers that Isabella doesn..."
      ]
     },
     "execution_count": 16,
     "metadata": {},
     "output_type": "execute_result"
    }
   ],
   "source": [
    "# Chargez le fichier \"train_data_challenge.csv\" dans un dataframe\n",
    "test_df = pd.read_csv(\"test_data_challenge.csv\")\n",
    "\n",
    "# Affichez les premières lignes pour vérifier la structure du dataframe\n",
    "test_df.head()"
   ]
  },
  {
   "cell_type": "code",
   "execution_count": 17,
   "id": "1c645e83",
   "metadata": {},
   "outputs": [
    {
     "name": "stdout",
     "output_type": "stream",
     "text": [
      "                                                   text  \\\n",
      "0     \\r\\r\\n      Hi granny, Look at my photos about...   \n",
      "1     \\r\\r\\n      Hi, I'm twenty on Monday. I'm havi...   \n",
      "2     \\r\\r\\n      make 2 teams of 6 or more players ...   \n",
      "3     \\r\\r\\n      Yes, I can recommend a green Amazo...   \n",
      "4     \\r\\r\\n      john discovers that Isabella doesn...   \n",
      "...                                                 ...   \n",
      "6810  \\r\\r\\n      we can find difference between the...   \n",
      "6811  \\r\\r\\n      I traveled to Africa last year. I ...   \n",
      "6812  \\r\\r\\n      Hello Im writing to the website in...   \n",
      "6813  \\r\\r\\n      Hello My name is Jean-Charles I'm ...   \n",
      "6814      \\r\\r\\n      I always go to small shops.\\r\\r\\n   \n",
      "\n",
      "                                           cleaned_text  \n",
      "0     Hi granny, Look at my photos about my holliday...  \n",
      "1     Hi, I'm twenty on Monday. I'm having a party i...  \n",
      "2     make 2 teams of 6 or more players one ground s...  \n",
      "3     Yes, I can recommend a green Amazon hotel. It'...  \n",
      "4     john discovers that Isabella doesn't stay with...  \n",
      "...                                                 ...  \n",
      "6810  we can find difference between the two website...  \n",
      "6811  I traveled to Africa last year. I have never l...  \n",
      "6812  Hello Im writing to the website in order to be...  \n",
      "6813  Hello My name is Jean-Charles I'm twenty three...  \n",
      "6814                        I always go to small shops.  \n",
      "\n",
      "[6815 rows x 2 columns]\n"
     ]
    }
   ],
   "source": [
    "# Apply the clean_text function to the \"text\" column\n",
    "test_df['cleaned_text'] = test_df['text'].apply(clean_text)\n",
    "\n",
    "# Display the resulting DataFrame\n",
    "print(test_df[['text', 'cleaned_text']])"
   ]
  },
  {
   "cell_type": "code",
   "execution_count": 18,
   "id": "474b77a0",
   "metadata": {},
   "outputs": [
    {
     "name": "stdout",
     "output_type": "stream",
     "text": [
      "                                                  text  level  \\\n",
      "0    Police and neighbors were searching for three ...      4   \n",
      "1    At least 26 people were killed Monday in the S...      4   \n",
      "2    To many who watched his long, rambling video s...      4   \n",
      "3    The night Bob Hawke lost the Labor leadership ...      4   \n",
      "4    ﻿Swedish prisons have long had a reputation ar...      4   \n",
      "..                                                 ...    ...   \n",
      "438  Light propagating in the vicinity of astrophys...      5   \n",
      "439  Future of dentistry has become one of the most...      5   \n",
      "440  ﻿The forests – and suburbs – of Europe are ech...      5   \n",
      "441  Hedge funds are turning bullish on oil once ag...      5   \n",
      "442  Without additional heating, radiative cooling ...      5   \n",
      "\n",
      "                                             sentences  \\\n",
      "0    [Police and neighbors were searching for three...   \n",
      "1    [At least 26 people were killed Monday in the ...   \n",
      "2    [To many who watched his long, rambling video ...   \n",
      "3    [The night Bob Hawke lost the Labor leadership...   \n",
      "4    [﻿Swedish prisons have long had a reputation a...   \n",
      "..                                                 ...   \n",
      "438  [Light propagating in the vicinity of astrophy...   \n",
      "439  [Future of dentistry has become one of the mos...   \n",
      "440  [﻿The forests – and suburbs – of Europe are ec...   \n",
      "441  [Hedge funds are turning bullish on oil once a...   \n",
      "442  [Without additional heating, radiative cooling...   \n",
      "\n",
      "                                       nearest_phrases  \n",
      "0    [Police and neighbors were searching for three...  \n",
      "1    [At least 26 people were killed Monday in the ...  \n",
      "2    [To many who watched his long, rambling video ...  \n",
      "3    [The night Bob Hawke lost the Labor leadership...  \n",
      "4    [﻿Swedish prisons have long had a reputation a...  \n",
      "..                                                 ...  \n",
      "438  [Light propagating in the vicinity of astrophy...  \n",
      "439  [Future of dentistry has become one of the mos...  \n",
      "440  [﻿The forests – and suburbs – of Europe are ec...  \n",
      "441  [Hedge funds are turning bullish on oil once a...  \n",
      "442  [Without additional heating, radiative cooling...  \n",
      "\n",
      "[443 rows x 4 columns]\n"
     ]
    }
   ],
   "source": [
    "# Reset the index\n",
    "filtered_df_tok_reset = filtered_df_tok.reset_index(drop=True)\n",
    "\n",
    "# Rename the 'label' column to 'level'\n",
    "filtered_df_tok_reset.rename(columns={'label': 'level'}, inplace=True)\n",
    "\n",
    "# Replace 'C1' with 4 and 'C2' with 5 in the 'level' column\n",
    "filtered_df_tok_reset['level'].replace({'C1': 4, 'C2': 5}, inplace=True)\n",
    "\n",
    "# Display the resulting dataframe with the updated 'level' column\n",
    "print(filtered_df_tok_reset)"
   ]
  },
  {
   "cell_type": "code",
   "execution_count": 19,
   "id": "377f972e",
   "metadata": {},
   "outputs": [
    {
     "name": "stdout",
     "output_type": "stream",
     "text": [
      "['Spain is expelling the Libyan ambassador to Madrid and three other Libyan diplomats here, the Spanish Foreign Ministry said in a statement Thursday.', 'The government of Spain has decided to put an end to the mission of the ambassador accredited in Madrid by the authorities in Tripoli -LRB- Libya -RRB-, because the Gadhafi regime has lost all legitimacy due to its continual repression of the Libyan population, the statement said.', 'The Libyan ambassador to Madrid, Ajeli Abdussalam Ali Breni, has 10 days to leave Spain, the ministry said.', 'The government also is expelling three other diplomats at the Libyan embassy who undertook activities incompatible with their diplomatic status, the statement said.', 'But Spain has not broken diplomatic relations with Libya, said a Foreign Ministry spokeswoman, who by custom is not identified.', 'Spain still has an embassy in Tripoli, although it evacuated its personnel from the city, like many other nations, as fighting between the regime of Moammar Gadhafi and rebels intensified in late March.']\n"
     ]
    }
   ],
   "source": [
    "# Print the 400th row of filtered_df_tok_reset\n",
    "# Print the \"nearest_phrases\" column for the 400th row\n",
    "print(filtered_df_tok_reset['nearest_phrases'].iloc[399])\n"
   ]
  },
  {
   "cell_type": "code",
   "execution_count": 20,
   "id": "bb5eaaaa",
   "metadata": {},
   "outputs": [],
   "source": [
    "# Convert all lists in the \"nearest_phrases\" column to single strings\n",
    "filtered_df_tok_reset['nearest_phrases'] = filtered_df_tok_reset['nearest_phrases'].apply(lambda x: ' '.join(x))"
   ]
  },
  {
   "cell_type": "code",
   "execution_count": null,
   "id": "c2ac59fc",
   "metadata": {},
   "outputs": [],
   "source": []
  },
  {
   "cell_type": "code",
   "execution_count": 21,
   "id": "6d39f1ac",
   "metadata": {},
   "outputs": [
    {
     "name": "stdout",
     "output_type": "stream",
     "text": [
      "                                       nearest_phrases  level\n",
      "0    Police and neighbors were searching for three ...      4\n",
      "1    At least 26 people were killed Monday in the S...      4\n",
      "2    To many who watched his long, rambling video s...      4\n",
      "3    The night Bob Hawke lost the Labor leadership ...      4\n",
      "4    ﻿Swedish prisons have long had a reputation ar...      4\n",
      "..                                                 ...    ...\n",
      "438  Light propagating in the vicinity of astrophys...      5\n",
      "439  Future of dentistry has become one of the most...      5\n",
      "440  ﻿The forests – and suburbs – of Europe are ech...      5\n",
      "441  Hedge funds are turning bullish on oil once ag...      5\n",
      "442  Without additional heating, radiative cooling ...      5\n",
      "\n",
      "[443 rows x 2 columns]\n"
     ]
    }
   ],
   "source": [
    "# Keep only the 'nearest_phrases' and 'level' columns\n",
    "filtered_df_selected_columns = filtered_df_tok_reset[['nearest_phrases', 'level']]\n",
    "\n",
    "# Print the resulting DataFrame\n",
    "print(filtered_df_selected_columns)"
   ]
  },
  {
   "cell_type": "code",
   "execution_count": 22,
   "id": "63f4c14c",
   "metadata": {},
   "outputs": [
    {
     "name": "stdout",
     "output_type": "stream",
     "text": [
      "                                       nearest_phrases  level   id\n",
      "0    Police and neighbors were searching for three ...      4    0\n",
      "1    At least 26 people were killed Monday in the S...      4    1\n",
      "2    To many who watched his long, rambling video s...      4    2\n",
      "3    The night Bob Hawke lost the Labor leadership ...      4    3\n",
      "4    ﻿Swedish prisons have long had a reputation ar...      4    4\n",
      "..                                                 ...    ...  ...\n",
      "438  Light propagating in the vicinity of astrophys...      5  438\n",
      "439  Future of dentistry has become one of the most...      5  439\n",
      "440  ﻿The forests – and suburbs – of Europe are ech...      5  440\n",
      "441  Hedge funds are turning bullish on oil once ag...      5  441\n",
      "442  Without additional heating, radiative cooling ...      5  442\n",
      "\n",
      "[443 rows x 3 columns]\n"
     ]
    }
   ],
   "source": [
    "# Reset the index to create a new default integer index\n",
    "filtered_df_selected_columns_reset = filtered_df_selected_columns.reset_index(drop=True)\n",
    "\n",
    "# Add a new 'id' column with unique identifiers starting from 0\n",
    "filtered_df_selected_columns_reset['id'] = range(len(filtered_df_selected_columns_reset))\n",
    "\n",
    "# Print the resulting DataFrame\n",
    "print(filtered_df_selected_columns_reset)"
   ]
  },
  {
   "cell_type": "code",
   "execution_count": 23,
   "id": "a70d4cd5",
   "metadata": {},
   "outputs": [
    {
     "name": "stdout",
     "output_type": "stream",
     "text": [
      "      id                                    nearest_phrases  level\n",
      "0      0  Police and neighbors were searching for three ...      4\n",
      "1      1  At least 26 people were killed Monday in the S...      4\n",
      "2      2  To many who watched his long, rambling video s...      4\n",
      "3      3  The night Bob Hawke lost the Labor leadership ...      4\n",
      "4      4  ﻿Swedish prisons have long had a reputation ar...      4\n",
      "..   ...                                                ...    ...\n",
      "438  438  Light propagating in the vicinity of astrophys...      5\n",
      "439  439  Future of dentistry has become one of the most...      5\n",
      "440  440  ﻿The forests – and suburbs – of Europe are ech...      5\n",
      "441  441  Hedge funds are turning bullish on oil once ag...      5\n",
      "442  442  Without additional heating, radiative cooling ...      5\n",
      "\n",
      "[443 rows x 3 columns]\n"
     ]
    }
   ],
   "source": [
    "# Move the 'id' column to the first position\n",
    "filtered_df_selected_columns_reset = filtered_df_selected_columns_reset[['id'] + [col for col in filtered_df_selected_columns_reset.columns if col != 'id']]\n",
    "\n",
    "# Print the resulting DataFrame\n",
    "print(filtered_df_selected_columns_reset)"
   ]
  },
  {
   "cell_type": "code",
   "execution_count": 24,
   "id": "5d4c0d83",
   "metadata": {},
   "outputs": [
    {
     "name": "stdout",
     "output_type": "stream",
     "text": [
      "      id                                               text  level\n",
      "0      0  Police and neighbors were searching for three ...      4\n",
      "1      1  At least 26 people were killed Monday in the S...      4\n",
      "2      2  To many who watched his long, rambling video s...      4\n",
      "3      3  The night Bob Hawke lost the Labor leadership ...      4\n",
      "4      4  ﻿Swedish prisons have long had a reputation ar...      4\n",
      "..   ...                                                ...    ...\n",
      "438  438  Light propagating in the vicinity of astrophys...      5\n",
      "439  439  Future of dentistry has become one of the most...      5\n",
      "440  440  ﻿The forests – and suburbs – of Europe are ech...      5\n",
      "441  441  Hedge funds are turning bullish on oil once ag...      5\n",
      "442  442  Without additional heating, radiative cooling ...      5\n",
      "\n",
      "[443 rows x 3 columns]\n"
     ]
    }
   ],
   "source": [
    "# Rename the 'nearest_phrases' column to 'text'\n",
    "filtered_df_selected_columns_reset.rename(columns={'nearest_phrases': 'text'}, inplace=True)\n",
    "\n",
    "# Print the resulting DataFrame\n",
    "print(filtered_df_selected_columns_reset)"
   ]
  },
  {
   "cell_type": "code",
   "execution_count": 25,
   "id": "e21e9f05",
   "metadata": {},
   "outputs": [
    {
     "name": "stdout",
     "output_type": "stream",
     "text": [
      "        Id                                       cleaned_text\n",
      "0        0  Hi granny, Look at my photos about my holliday...\n",
      "1        1  Hi, I'm twenty on Monday. I'm having a party i...\n",
      "2        2  make 2 teams of 6 or more players one ground s...\n",
      "3        3  Yes, I can recommend a green Amazon hotel. It'...\n",
      "4        4  john discovers that Isabella doesn't stay with...\n",
      "...    ...                                                ...\n",
      "6810  6810  we can find difference between the two website...\n",
      "6811  6811  I traveled to Africa last year. I have never l...\n",
      "6812  6812  Hello Im writing to the website in order to be...\n",
      "6813  6813  Hello My name is Jean-Charles I'm twenty three...\n",
      "6814  6814                        I always go to small shops.\n",
      "\n",
      "[6815 rows x 2 columns]\n"
     ]
    }
   ],
   "source": [
    "# Select only the desired columns 'Id', 'cleaned_text', and 'level'\n",
    "selected_columns_test_df = test_df[['Id', 'cleaned_text']]\n",
    "\n",
    "# Print the resulting DataFrame\n",
    "print(selected_columns_test_df)"
   ]
  },
  {
   "cell_type": "code",
   "execution_count": 26,
   "id": "ba993dae",
   "metadata": {},
   "outputs": [
    {
     "name": "stdout",
     "output_type": "stream",
     "text": [
      "        Id                                               text\n",
      "0        0  Hi granny, Look at my photos about my holliday...\n",
      "1        1  Hi, I'm twenty on Monday. I'm having a party i...\n",
      "2        2  make 2 teams of 6 or more players one ground s...\n",
      "3        3  Yes, I can recommend a green Amazon hotel. It'...\n",
      "4        4  john discovers that Isabella doesn't stay with...\n",
      "...    ...                                                ...\n",
      "6810  6810  we can find difference between the two website...\n",
      "6811  6811  I traveled to Africa last year. I have never l...\n",
      "6812  6812  Hello Im writing to the website in order to be...\n",
      "6813  6813  Hello My name is Jean-Charles I'm twenty three...\n",
      "6814  6814                        I always go to small shops.\n",
      "\n",
      "[6815 rows x 2 columns]\n"
     ]
    },
    {
     "name": "stderr",
     "output_type": "stream",
     "text": [
      "C:\\Users\\zerot\\AppData\\Local\\Temp\\ipykernel_22980\\779076156.py:2: SettingWithCopyWarning: \n",
      "A value is trying to be set on a copy of a slice from a DataFrame\n",
      "\n",
      "See the caveats in the documentation: https://pandas.pydata.org/pandas-docs/stable/user_guide/indexing.html#returning-a-view-versus-a-copy\n",
      "  selected_columns_test_df.rename(columns={'cleaned_text': 'text'}, inplace=True)\n"
     ]
    }
   ],
   "source": [
    "# Rename the 'cleaned_text' column to 'text'\n",
    "selected_columns_test_df.rename(columns={'cleaned_text': 'text'}, inplace=True)\n",
    "\n",
    "# Print the resulting DataFrame\n",
    "print(selected_columns_test_df)"
   ]
  },
  {
   "cell_type": "code",
   "execution_count": 27,
   "id": "9b89c572",
   "metadata": {},
   "outputs": [
    {
     "name": "stdout",
     "output_type": "stream",
     "text": [
      "          Id                                       cleaned_text  level\n",
      "0          0  My friend Meg was going out to work like every...      3\n",
      "1          1  Hello I'm sorry but i'm on holiday when you ca...      0\n",
      "2          2  Name : MaryAge : 62Hair color : blondeEyes: : ...      0\n",
      "3          3  hi , my name is laila , i live in paris from f...      0\n",
      "4          4  A pink sweater : 10 $.A black dress with a whi...      0\n",
      "...      ...                                                ...    ...\n",
      "20440  20440  Hi mom and pop!I'm going to the pop festival t...      1\n",
      "20441  20441  Hello, I don't know if the things telling abou...      2\n",
      "20442  20442  I'm Ericka. I live in Paris .I get up at 7 in ...      0\n",
      "20443  20443  Hi, Jessy! You're on vacation, It's too bad to...      0\n",
      "20444  20444  Hi, my name is Gregory. I'm thirdy-nine. My fa...      0\n",
      "\n",
      "[20445 rows x 3 columns]\n"
     ]
    }
   ],
   "source": [
    "# Select only the desired columns 'Id', 'cleaned_text', and 'level'\n",
    "selected_columns_train_df = train_df[['Id', 'cleaned_text', 'level']]\n",
    "\n",
    "# Print the resulting DataFrame\n",
    "print(selected_columns_train_df)"
   ]
  },
  {
   "cell_type": "code",
   "execution_count": 28,
   "id": "06d8b363",
   "metadata": {},
   "outputs": [
    {
     "name": "stdout",
     "output_type": "stream",
     "text": [
      "          Id                                               text  level\n",
      "0          0  My friend Meg was going out to work like every...      3\n",
      "1          1  Hello I'm sorry but i'm on holiday when you ca...      0\n",
      "2          2  Name : MaryAge : 62Hair color : blondeEyes: : ...      0\n",
      "3          3  hi , my name is laila , i live in paris from f...      0\n",
      "4          4  A pink sweater : 10 $.A black dress with a whi...      0\n",
      "...      ...                                                ...    ...\n",
      "20440  20440  Hi mom and pop!I'm going to the pop festival t...      1\n",
      "20441  20441  Hello, I don't know if the things telling abou...      2\n",
      "20442  20442  I'm Ericka. I live in Paris .I get up at 7 in ...      0\n",
      "20443  20443  Hi, Jessy! You're on vacation, It's too bad to...      0\n",
      "20444  20444  Hi, my name is Gregory. I'm thirdy-nine. My fa...      0\n",
      "\n",
      "[20445 rows x 3 columns]\n"
     ]
    },
    {
     "name": "stderr",
     "output_type": "stream",
     "text": [
      "C:\\Users\\zerot\\AppData\\Local\\Temp\\ipykernel_22980\\3916772735.py:2: SettingWithCopyWarning: \n",
      "A value is trying to be set on a copy of a slice from a DataFrame\n",
      "\n",
      "See the caveats in the documentation: https://pandas.pydata.org/pandas-docs/stable/user_guide/indexing.html#returning-a-view-versus-a-copy\n",
      "  selected_columns_train_df.rename(columns={'cleaned_text': 'text'}, inplace=True)\n"
     ]
    }
   ],
   "source": [
    "# Rename the 'cleaned_text' column to 'text'\n",
    "selected_columns_train_df.rename(columns={'cleaned_text': 'text'}, inplace=True)\n",
    "\n",
    "# Print the resulting DataFrame\n",
    "print(selected_columns_train_df)"
   ]
  },
  {
   "cell_type": "code",
   "execution_count": 29,
   "id": "be03ac97",
   "metadata": {},
   "outputs": [],
   "source": [
    "# Save filtered_df_selected_columns_reset to cleaned_data_augment.txt\n",
    "filtered_df_selected_columns_reset.to_csv(\"cleaned_data_augment.txt\", sep='\\t', index=False)\n",
    "\n",
    "# Save selected_columns_train_df to cleaned_train_data.csv\n",
    "selected_columns_train_df.to_csv(\"cleaned_train_data.csv\", index=False)\n",
    "\n",
    "# Save selected_columns_test_df to cleaned_test_data.csv\n",
    "selected_columns_test_df.to_csv(\"cleaned_test_data.csv\", index=False)"
   ]
  },
  {
   "cell_type": "code",
   "execution_count": 30,
   "id": "a148f9a4",
   "metadata": {},
   "outputs": [],
   "source": [
    "import numpy as np"
   ]
  },
  {
   "cell_type": "code",
   "execution_count": 31,
   "id": "e2229ea6",
   "metadata": {},
   "outputs": [],
   "source": [
    "# Load the cleaned dataframes\n",
    "selected_columns_train_df = pd.read_csv(\"cleaned_train_data.csv\", encoding=\"utf-8\")\n",
    "filtered_df_selected_columns_reset = pd.read_csv(\"cleaned_data_augment.txt\", encoding=\"utf-8\", sep=\"\\t\")\n",
    "\n",
    "# Function to insert row at random index in dataframe\n",
    "def insert_row_at_random_index(dataframe, row):\n",
    "    random_index = np.random.randint(0, len(dataframe) + 1)\n",
    "    return pd.concat([dataframe.iloc[:random_index], pd.DataFrame([row]), dataframe.iloc[random_index:]], ignore_index=True)\n",
    "\n",
    "# Iterate over rows in filtered_df_selected_columns_reset and insert at random index in selected_columns_train_df\n",
    "for _, row in filtered_df_selected_columns_reset.iterrows():\n",
    "    selected_columns_train_df = insert_row_at_random_index(selected_columns_train_df, row)\n",
    "\n",
    "# Save the concatenated dataframe to cleaned_final_train_data.csv\n",
    "selected_columns_train_df.to_csv(\"cleaned_final_train_data.csv\", index=False)"
   ]
  },
  {
   "cell_type": "code",
   "execution_count": 32,
   "id": "6ad67394",
   "metadata": {},
   "outputs": [
    {
     "data": {
      "text/plain": [
       "<bound method DataFrame.value_counts of             Id                                               text  level  id\n",
       "0          0.0  My friend Meg was going out to work like every...      3 NaN\n",
       "1          1.0  Hello I'm sorry but i'm on holiday when you ca...      0 NaN\n",
       "2          2.0  Name : MaryAge : 62Hair color : blondeEyes: : ...      0 NaN\n",
       "3          3.0  hi , my name is laila , i live in paris from f...      0 NaN\n",
       "4          4.0  A pink sweater : 10 $.A black dress with a whi...      0 NaN\n",
       "...        ...                                                ...    ...  ..\n",
       "20883  20440.0  Hi mom and pop!I'm going to the pop festival t...      1 NaN\n",
       "20884  20441.0  Hello, I don't know if the things telling abou...      2 NaN\n",
       "20885  20442.0  I'm Ericka. I live in Paris .I get up at 7 in ...      0 NaN\n",
       "20886  20443.0  Hi, Jessy! You're on vacation, It's too bad to...      0 NaN\n",
       "20887  20444.0  Hi, my name is Gregory. I'm thirdy-nine. My fa...      0 NaN\n",
       "\n",
       "[20888 rows x 4 columns]>"
      ]
     },
     "execution_count": 32,
     "metadata": {},
     "output_type": "execute_result"
    }
   ],
   "source": [
    "selected_columns_train_df.value_counts"
   ]
  },
  {
   "cell_type": "code",
   "execution_count": 33,
   "id": "922400a6",
   "metadata": {},
   "outputs": [
    {
     "data": {
      "text/plain": [
       "<bound method DataFrame.value_counts of       id                                               text  level\n",
       "0      0  Police and neighbors were searching for three ...      4\n",
       "1      1  At least 26 people were killed Monday in the S...      4\n",
       "2      2  To many who watched his long, rambling video s...      4\n",
       "3      3  The night Bob Hawke lost the Labor leadership ...      4\n",
       "4      4  ﻿Swedish prisons have long had a reputation ar...      4\n",
       "..   ...                                                ...    ...\n",
       "438  438  Light propagating in the vicinity of astrophys...      5\n",
       "439  439  Future of dentistry has become one of the most...      5\n",
       "440  440  ﻿The forests – and suburbs – of Europe are ech...      5\n",
       "441  441  Hedge funds are turning bullish on oil once ag...      5\n",
       "442  442  Without additional heating, radiative cooling ...      5\n",
       "\n",
       "[443 rows x 3 columns]>"
      ]
     },
     "execution_count": 33,
     "metadata": {},
     "output_type": "execute_result"
    }
   ],
   "source": [
    "filtered_df_selected_columns_reset.value_counts"
   ]
  },
  {
   "cell_type": "code",
   "execution_count": 34,
   "id": "17d0ccf8",
   "metadata": {},
   "outputs": [
    {
     "data": {
      "text/html": [
       "<div>\n",
       "<style scoped>\n",
       "    .dataframe tbody tr th:only-of-type {\n",
       "        vertical-align: middle;\n",
       "    }\n",
       "\n",
       "    .dataframe tbody tr th {\n",
       "        vertical-align: top;\n",
       "    }\n",
       "\n",
       "    .dataframe thead th {\n",
       "        text-align: right;\n",
       "    }\n",
       "</style>\n",
       "<table border=\"1\" class=\"dataframe\">\n",
       "  <thead>\n",
       "    <tr style=\"text-align: right;\">\n",
       "      <th></th>\n",
       "      <th>Id</th>\n",
       "      <th>text</th>\n",
       "      <th>level</th>\n",
       "      <th>cleaned_text</th>\n",
       "    </tr>\n",
       "  </thead>\n",
       "  <tbody>\n",
       "    <tr>\n",
       "      <th>0</th>\n",
       "      <td>0</td>\n",
       "      <td>\\r\\r\\n      My friend Meg was going out to wor...</td>\n",
       "      <td>3</td>\n",
       "      <td>My friend Meg was going out to work like every...</td>\n",
       "    </tr>\n",
       "    <tr>\n",
       "      <th>1</th>\n",
       "      <td>1</td>\n",
       "      <td>\\r\\r\\n      Hello I'm sorry but i'm on holiday...</td>\n",
       "      <td>0</td>\n",
       "      <td>Hello I'm sorry but i'm on holiday when you ca...</td>\n",
       "    </tr>\n",
       "    <tr>\n",
       "      <th>2</th>\n",
       "      <td>2</td>\n",
       "      <td>\\r\\r\\n      Name : MaryAge : 62Hair color : bl...</td>\n",
       "      <td>0</td>\n",
       "      <td>Name : MaryAge : 62Hair color : blondeEyes: : ...</td>\n",
       "    </tr>\n",
       "    <tr>\n",
       "      <th>3</th>\n",
       "      <td>3</td>\n",
       "      <td>\\r\\r\\n      hi , my name is laila , i live in ...</td>\n",
       "      <td>0</td>\n",
       "      <td>hi , my name is laila , i live in paris from f...</td>\n",
       "    </tr>\n",
       "    <tr>\n",
       "      <th>4</th>\n",
       "      <td>4</td>\n",
       "      <td>\\r\\r\\n      A pink sweater : 10 $.A black dres...</td>\n",
       "      <td>0</td>\n",
       "      <td>A pink sweater : 10 $.A black dress with a whi...</td>\n",
       "    </tr>\n",
       "    <tr>\n",
       "      <th>...</th>\n",
       "      <td>...</td>\n",
       "      <td>...</td>\n",
       "      <td>...</td>\n",
       "      <td>...</td>\n",
       "    </tr>\n",
       "    <tr>\n",
       "      <th>20440</th>\n",
       "      <td>20440</td>\n",
       "      <td>\\r\\r\\n      Hi mom and pop!I'm going to the po...</td>\n",
       "      <td>1</td>\n",
       "      <td>Hi mom and pop!I'm going to the pop festival t...</td>\n",
       "    </tr>\n",
       "    <tr>\n",
       "      <th>20441</th>\n",
       "      <td>20441</td>\n",
       "      <td>\\r\\r\\n      Hello, I don't know if the things ...</td>\n",
       "      <td>2</td>\n",
       "      <td>Hello, I don't know if the things telling abou...</td>\n",
       "    </tr>\n",
       "    <tr>\n",
       "      <th>20442</th>\n",
       "      <td>20442</td>\n",
       "      <td>\\r\\r\\n      I'm Ericka. I live in Paris .I get...</td>\n",
       "      <td>0</td>\n",
       "      <td>I'm Ericka. I live in Paris .I get up at 7 in ...</td>\n",
       "    </tr>\n",
       "    <tr>\n",
       "      <th>20443</th>\n",
       "      <td>20443</td>\n",
       "      <td>\\r\\r\\n      Hi, Jessy! You're on vacation, It'...</td>\n",
       "      <td>0</td>\n",
       "      <td>Hi, Jessy! You're on vacation, It's too bad to...</td>\n",
       "    </tr>\n",
       "    <tr>\n",
       "      <th>20444</th>\n",
       "      <td>20444</td>\n",
       "      <td>\\r\\r\\n      Hi, my name is Gregory. I'm thirdy...</td>\n",
       "      <td>0</td>\n",
       "      <td>Hi, my name is Gregory. I'm thirdy-nine. My fa...</td>\n",
       "    </tr>\n",
       "  </tbody>\n",
       "</table>\n",
       "<p>20445 rows × 4 columns</p>\n",
       "</div>"
      ],
      "text/plain": [
       "          Id                                               text  level  \\\n",
       "0          0  \\r\\r\\n      My friend Meg was going out to wor...      3   \n",
       "1          1  \\r\\r\\n      Hello I'm sorry but i'm on holiday...      0   \n",
       "2          2  \\r\\r\\n      Name : MaryAge : 62Hair color : bl...      0   \n",
       "3          3  \\r\\r\\n      hi , my name is laila , i live in ...      0   \n",
       "4          4  \\r\\r\\n      A pink sweater : 10 $.A black dres...      0   \n",
       "...      ...                                                ...    ...   \n",
       "20440  20440  \\r\\r\\n      Hi mom and pop!I'm going to the po...      1   \n",
       "20441  20441  \\r\\r\\n      Hello, I don't know if the things ...      2   \n",
       "20442  20442  \\r\\r\\n      I'm Ericka. I live in Paris .I get...      0   \n",
       "20443  20443  \\r\\r\\n      Hi, Jessy! You're on vacation, It'...      0   \n",
       "20444  20444  \\r\\r\\n      Hi, my name is Gregory. I'm thirdy...      0   \n",
       "\n",
       "                                            cleaned_text  \n",
       "0      My friend Meg was going out to work like every...  \n",
       "1      Hello I'm sorry but i'm on holiday when you ca...  \n",
       "2      Name : MaryAge : 62Hair color : blondeEyes: : ...  \n",
       "3      hi , my name is laila , i live in paris from f...  \n",
       "4      A pink sweater : 10 $.A black dress with a whi...  \n",
       "...                                                  ...  \n",
       "20440  Hi mom and pop!I'm going to the pop festival t...  \n",
       "20441  Hello, I don't know if the things telling abou...  \n",
       "20442  I'm Ericka. I live in Paris .I get up at 7 in ...  \n",
       "20443  Hi, Jessy! You're on vacation, It's too bad to...  \n",
       "20444  Hi, my name is Gregory. I'm thirdy-nine. My fa...  \n",
       "\n",
       "[20445 rows x 4 columns]"
      ]
     },
     "execution_count": 34,
     "metadata": {},
     "output_type": "execute_result"
    }
   ],
   "source": [
    "train_df"
   ]
  },
  {
   "cell_type": "code",
   "execution_count": 35,
   "id": "4f3d138e",
   "metadata": {},
   "outputs": [],
   "source": [
    "finale_test = pd.read_csv(\"cleaned_final_train_data.csv\", encoding=\"utf-8\")"
   ]
  },
  {
   "cell_type": "code",
   "execution_count": 36,
   "id": "937097c8",
   "metadata": {},
   "outputs": [
    {
     "data": {
      "text/html": [
       "<div>\n",
       "<style scoped>\n",
       "    .dataframe tbody tr th:only-of-type {\n",
       "        vertical-align: middle;\n",
       "    }\n",
       "\n",
       "    .dataframe tbody tr th {\n",
       "        vertical-align: top;\n",
       "    }\n",
       "\n",
       "    .dataframe thead th {\n",
       "        text-align: right;\n",
       "    }\n",
       "</style>\n",
       "<table border=\"1\" class=\"dataframe\">\n",
       "  <thead>\n",
       "    <tr style=\"text-align: right;\">\n",
       "      <th></th>\n",
       "      <th>Id</th>\n",
       "      <th>text</th>\n",
       "      <th>level</th>\n",
       "      <th>id</th>\n",
       "    </tr>\n",
       "  </thead>\n",
       "  <tbody>\n",
       "    <tr>\n",
       "      <th>0</th>\n",
       "      <td>0.0</td>\n",
       "      <td>My friend Meg was going out to work like every...</td>\n",
       "      <td>3</td>\n",
       "      <td>NaN</td>\n",
       "    </tr>\n",
       "    <tr>\n",
       "      <th>1</th>\n",
       "      <td>1.0</td>\n",
       "      <td>Hello I'm sorry but i'm on holiday when you ca...</td>\n",
       "      <td>0</td>\n",
       "      <td>NaN</td>\n",
       "    </tr>\n",
       "    <tr>\n",
       "      <th>2</th>\n",
       "      <td>2.0</td>\n",
       "      <td>Name : MaryAge : 62Hair color : blondeEyes: : ...</td>\n",
       "      <td>0</td>\n",
       "      <td>NaN</td>\n",
       "    </tr>\n",
       "    <tr>\n",
       "      <th>3</th>\n",
       "      <td>3.0</td>\n",
       "      <td>hi , my name is laila , i live in paris from f...</td>\n",
       "      <td>0</td>\n",
       "      <td>NaN</td>\n",
       "    </tr>\n",
       "    <tr>\n",
       "      <th>4</th>\n",
       "      <td>4.0</td>\n",
       "      <td>A pink sweater : 10 $.A black dress with a whi...</td>\n",
       "      <td>0</td>\n",
       "      <td>NaN</td>\n",
       "    </tr>\n",
       "    <tr>\n",
       "      <th>...</th>\n",
       "      <td>...</td>\n",
       "      <td>...</td>\n",
       "      <td>...</td>\n",
       "      <td>...</td>\n",
       "    </tr>\n",
       "    <tr>\n",
       "      <th>20883</th>\n",
       "      <td>20440.0</td>\n",
       "      <td>Hi mom and pop!I'm going to the pop festival t...</td>\n",
       "      <td>1</td>\n",
       "      <td>NaN</td>\n",
       "    </tr>\n",
       "    <tr>\n",
       "      <th>20884</th>\n",
       "      <td>20441.0</td>\n",
       "      <td>Hello, I don't know if the things telling abou...</td>\n",
       "      <td>2</td>\n",
       "      <td>NaN</td>\n",
       "    </tr>\n",
       "    <tr>\n",
       "      <th>20885</th>\n",
       "      <td>20442.0</td>\n",
       "      <td>I'm Ericka. I live in Paris .I get up at 7 in ...</td>\n",
       "      <td>0</td>\n",
       "      <td>NaN</td>\n",
       "    </tr>\n",
       "    <tr>\n",
       "      <th>20886</th>\n",
       "      <td>20443.0</td>\n",
       "      <td>Hi, Jessy! You're on vacation, It's too bad to...</td>\n",
       "      <td>0</td>\n",
       "      <td>NaN</td>\n",
       "    </tr>\n",
       "    <tr>\n",
       "      <th>20887</th>\n",
       "      <td>20444.0</td>\n",
       "      <td>Hi, my name is Gregory. I'm thirdy-nine. My fa...</td>\n",
       "      <td>0</td>\n",
       "      <td>NaN</td>\n",
       "    </tr>\n",
       "  </tbody>\n",
       "</table>\n",
       "<p>20888 rows × 4 columns</p>\n",
       "</div>"
      ],
      "text/plain": [
       "            Id                                               text  level  id\n",
       "0          0.0  My friend Meg was going out to work like every...      3 NaN\n",
       "1          1.0  Hello I'm sorry but i'm on holiday when you ca...      0 NaN\n",
       "2          2.0  Name : MaryAge : 62Hair color : blondeEyes: : ...      0 NaN\n",
       "3          3.0  hi , my name is laila , i live in paris from f...      0 NaN\n",
       "4          4.0  A pink sweater : 10 $.A black dress with a whi...      0 NaN\n",
       "...        ...                                                ...    ...  ..\n",
       "20883  20440.0  Hi mom and pop!I'm going to the pop festival t...      1 NaN\n",
       "20884  20441.0  Hello, I don't know if the things telling abou...      2 NaN\n",
       "20885  20442.0  I'm Ericka. I live in Paris .I get up at 7 in ...      0 NaN\n",
       "20886  20443.0  Hi, Jessy! You're on vacation, It's too bad to...      0 NaN\n",
       "20887  20444.0  Hi, my name is Gregory. I'm thirdy-nine. My fa...      0 NaN\n",
       "\n",
       "[20888 rows x 4 columns]"
      ]
     },
     "execution_count": 36,
     "metadata": {},
     "output_type": "execute_result"
    }
   ],
   "source": [
    "finale_test"
   ]
  },
  {
   "cell_type": "code",
   "execution_count": null,
   "id": "b991af1e",
   "metadata": {},
   "outputs": [],
   "source": []
  }
 ],
 "metadata": {
  "kernelspec": {
   "display_name": "Python 3 (ipykernel)",
   "language": "python",
   "name": "python3"
  },
  "language_info": {
   "codemirror_mode": {
    "name": "ipython",
    "version": 3
   },
   "file_extension": ".py",
   "mimetype": "text/x-python",
   "name": "python",
   "nbconvert_exporter": "python",
   "pygments_lexer": "ipython3",
   "version": "3.11.4"
  }
 },
 "nbformat": 4,
 "nbformat_minor": 5
}
